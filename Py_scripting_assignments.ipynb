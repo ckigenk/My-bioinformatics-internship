{
 "cells": [
  {
   "cell_type": "markdown",
   "id": "b5ae2dc5-29be-4323-87e9-ce41de8d9d73",
   "metadata": {},
   "source": [
    "### Question 1\n",
    "Level 1\n",
    "\n",
    "Question:\n",
    "Write a program which will find all such numbers which are divisible by 7 but are not a multiple of 5, between 2000 and 3200 (both included).\n",
    "The numbers obtained should be printed in a comma-separated sequence on a single line.\n",
    "\n",
    "Hints: \n",
    "Consider use range(#begin, #end) method"
   ]
  },
  {
   "cell_type": "code",
   "execution_count": 2,
   "id": "47391064-c0d8-458d-99cb-b01beba12d90",
   "metadata": {},
   "outputs": [
    {
     "name": "stdout",
     "output_type": "stream",
     "text": [
      "2002,2009,2016,2023,2030,2037,2044,2051,2058,2065,2072,2079,2086,2093,2100,2107,2114,2121,2128,2135,2142,2149,2156,2163,2170,2177,2184,2191,2198,2205,2212,2219,2226,2233,2240,2247,2254,2261,2268,2275,2282,2289,2296,2303,2310,2317,2324,2331,2338,2345,2352,2359,2366,2373,2380,2387,2394,2401,2408,2415,2422,2429,2436,2443,2450,2457,2464,2471,2478,2485,2492,2499,2506,2513,2520,2527,2534,2541,2548,2555,2562,2569,2576,2583,2590,2597,2604,2611,2618,2625,2632,2639,2646,2653,2660,2667,2674,2681,2688,2695,2702,2709,2716,2723,2730,2737,2744,2751,2758,2765,2772,2779,2786,2793,2800,2807,2814,2821,2828,2835,2842,2849,2856,2863,2870,2877,2884,2891,2898,2905,2912,2919,2926,2933,2940,2947,2954,2961,2968,2975,2982,2989,2996,3003,3010,3017,3024,3031,3038,3045,3052,3059,3066,3073,3080,3087,3094,3101,3108,3115,3122,3129,3136,3143,3150,3157,3164,3171,3178,3185,3192,3199,"
     ]
    }
   ],
   "source": [
    "for n in range(2000, 3201):\n",
    "    if n%7==0 & n%5!=5:\n",
    "        print(n, end=',')\n",
    "    "
   ]
  },
  {
   "cell_type": "markdown",
   "id": "b89a6f06-a72c-44a5-989c-6766ce4db860",
   "metadata": {},
   "source": [
    "### Question 2\n",
    "Level 1\n",
    "\n",
    "Question:\n",
    "Write a program which can compute the factorial of a given numbers.\n",
    "The results should be printed in a comma-separated sequence on a single line.\n",
    "Suppose the following input is supplied to the program:\n",
    "8\n",
    "Then, the output should be:\n",
    "40320\n",
    "\n",
    "Hints:\n",
    "In case of input data being supplied to the question, it should be assumed to be a console input."
   ]
  },
  {
   "cell_type": "code",
   "execution_count": 8,
   "id": "783048d4-d0e0-45fd-ae9f-ff8e69c3a152",
   "metadata": {},
   "outputs": [
    {
     "name": "stdin",
     "output_type": "stream",
     "text": [
      "Enter a number:  8\n"
     ]
    },
    {
     "name": "stdout",
     "output_type": "stream",
     "text": [
      "40320\n"
     ]
    }
   ],
   "source": [
    "num = int (input('Enter a number: '))\n",
    "Factorial = 1\n",
    "for n in range(1,(num+1)):\n",
    "    Factorial = Factorial*n\n",
    "print(Factorial)\n",
    "       "
   ]
  },
  {
   "cell_type": "markdown",
   "id": "3342bf32-9d76-49c9-86fd-18b54f4450e1",
   "metadata": {},
   "source": [
    "### Question 3\n",
    "Level 1\n",
    "\n",
    "Question:\n",
    "With a given integral number n, write a program to generate a dictionary that contains (i, i*i) such that is an integral number between 1 and n (both included). and then the program should print the dictionary.\n",
    "Suppose the following input is supplied to the program:\n",
    "8\n",
    "Then, the output should be:\n",
    "{1: 1, 2: 4, 3: 9, 4: 16, 5: 25, 6: 36, 7: 49, 8: 64}\n",
    "\n",
    "Hints:\n",
    "In case of input data being supplied to the question, it should be assumed to be a console input.\n",
    "Consider use dict()\n"
   ]
  },
  {
   "cell_type": "code",
   "execution_count": 5,
   "id": "cd88b289-bed6-48a1-ae2e-dd79cee33924",
   "metadata": {},
   "outputs": [
    {
     "name": "stdin",
     "output_type": "stream",
     "text": [
      "Enter a number 8\n"
     ]
    },
    {
     "name": "stdout",
     "output_type": "stream",
     "text": [
      "{1: 1, 2: 4, 3: 9, 4: 16, 5: 25, 6: 36, 7: 49, 8: 64}\n"
     ]
    }
   ],
   "source": [
    "n = int(input(\"Enter a number\"))\n",
    "dictionary3 = {}\n",
    "for n in range(1, n+1):\n",
    "    dictionary3[n]=n*n\n",
    "print(dictionary3)\n",
    "\n",
    "\n",
    "    "
   ]
  },
  {
   "cell_type": "markdown",
   "id": "dbc37212-e06b-467f-b455-970c4ff7784f",
   "metadata": {},
   "source": [
    "### Question 4\n",
    "Level 1\n",
    "\n",
    "Question:\n",
    "Write a program which accepts a sequence of comma-separated numbers from console and generate a list and a tuple which contains every number.\n",
    "Suppose the following input is supplied to the program:\n",
    "34,67,55,33,12,98\n",
    "Then, the output should be:\n",
    "['34', '67', '55', '33', '12', '98']\n",
    "('34', '67', '55', '33', '12', '98')\n",
    "\n",
    "Hints:\n",
    "In case of input data being supplied to the question, it should be assumed to be a console input.\n",
    "tuple() method can convert list to tuple\n"
   ]
  },
  {
   "cell_type": "code",
   "execution_count": 14,
   "id": "d4746b82-e092-453c-ad39-8ad650d8353b",
   "metadata": {},
   "outputs": [
    {
     "name": "stdin",
     "output_type": "stream",
     "text": [
      "Enter your numbers 34,67,55,33,12,98\n"
     ]
    },
    {
     "name": "stdout",
     "output_type": "stream",
     "text": [
      "['34', '67', '55', '33', '12', '98'] ('34', '67', '55', '33', '12', '98')\n"
     ]
    }
   ],
   "source": [
    "num4 = input(\"Enter your numbers\").split(\",\")\n",
    "list4 = []\n",
    "for i in num4:\n",
    "    list4.append(i)\n",
    "    tuple4 = tuple(list4)\n",
    "print(list4, tuple4)\n"
   ]
  },
  {
   "cell_type": "markdown",
   "id": "0a96dcdb-5e88-4787-9df1-610d23839ada",
   "metadata": {},
   "source": [
    "### Question 5\n",
    "Level 1\n",
    "\n",
    "Question:\n",
    "Define a class which has at least two methods:\n",
    "getString: to get a string from console input\n",
    "printString: to print the string in upper case.\n",
    "Also please include simple test function to test the class methods.\n",
    "\n",
    "Hints:\n",
    "Use __init__ method to construct some parameters"
   ]
  },
  {
   "cell_type": "code",
   "execution_count": 7,
   "id": "4ee56784-53a3-48d3-870f-3ebca792e6d8",
   "metadata": {},
   "outputs": [
    {
     "data": {
      "text/plain": [
       "<__main__.String5 at 0x7f5aac14ee50>"
      ]
     },
     "execution_count": 7,
     "metadata": {},
     "output_type": "execute_result"
    }
   ],
   "source": [
    "class String5():\n",
    "    def getString(self):\n",
    "        string5=input('Enter your string')\n",
    "    def printString(self):\n",
    "        print(string5.Upper())\n",
    "        \n",
    "String5()"
   ]
  },
  {
   "cell_type": "markdown",
   "id": "983aee1e-c28e-496f-bfe6-ac389e092bd7",
   "metadata": {},
   "source": [
    "### Question 6\n",
    "Level 2\n",
    "\n",
    "Question:\n",
    "Write a program that calculates and prints the value according to the given formula:\n",
    "Q = Square root of [(2 * C * D)/H]\n",
    "Following are the fixed values of C and H:\n",
    "C is 50. H is 30.\n",
    "D is the variable whose values should be input to your program in a comma-separated sequence.\n",
    "Example\n",
    "Let us assume the following comma separated input sequence is given to the program:\n",
    "100,150,180\n",
    "The output of the program should be:\n",
    "18,22,24\n",
    "\n",
    "Hints:\n",
    "If the output received is in decimal form, it should be rounded off to its nearest value (for example, if the output received is 26.0, it should be printed as 26)\n",
    "In case of input data being supplied to the question, it should be assumed to be a console input. "
   ]
  },
  {
   "cell_type": "code",
   "execution_count": 53,
   "id": "3c61bb5a-9b28-43f1-83f4-f67b37e07e70",
   "metadata": {},
   "outputs": [
    {
     "name": "stdin",
     "output_type": "stream",
     "text": [
      "Enter your numbers 100,150,180\n"
     ]
    },
    {
     "name": "stdout",
     "output_type": "stream",
     "text": [
      "18,22,24,"
     ]
    }
   ],
   "source": [
    "import math\n",
    "output6 = \"\"\n",
    "def calculator6():\n",
    "    D = input(\"Enter your numbers\").split(\",\")\n",
    "    for i in D:\n",
    "        Q = math.sqrt(2*50*(int(i))/30)\n",
    "        print(round(Q), end=\",\")\n",
    "    \n",
    "calculator6()"
   ]
  },
  {
   "cell_type": "markdown",
   "id": "4b146a3b-2ead-4f92-afa9-7ff9e1cae312",
   "metadata": {},
   "source": [
    "### Question 7\n",
    "Level 2\n",
    "\n",
    "Question:\n",
    "Write a program which takes 2 digits, X,Y as input and generates a 2-dimensional array. The element value in the i-th row and j-th column of the array should be i*j.\n",
    "Note: i=0,1.., X-1; j=0,1,¡­Y-1.\n",
    "Example\n",
    "Suppose the following inputs are given to the program:\n",
    "3,5\n",
    "Then, the output of the program should be:\n",
    "[[0, 0, 0, 0, 0], [0, 1, 2, 3, 4], [0, 2, 4, 6, 8]] \n",
    "\n",
    "Hints:\n",
    "Note: In case of input data being supplied to the question, it should be assumed to be a console input in a comma-separated form.\n"
   ]
  },
  {
   "cell_type": "code",
   "execution_count": null,
   "id": "2f92db28-960a-47af-8f90-73cc3ce641e9",
   "metadata": {},
   "outputs": [],
   "source": []
  },
  {
   "cell_type": "markdown",
   "id": "39491550-55ef-4966-a9dd-c04f5524e412",
   "metadata": {},
   "source": [
    "### Question 8\n",
    "Level 2\n",
    "\n",
    "Question:\n",
    "Write a program that accepts a comma separated sequence of words as input and prints the words in a comma-separated sequence after sorting them alphabetically.\n",
    "Suppose the following input is supplied to the program:\n",
    "without,hello,bag,world\n",
    "Then, the output should be:\n",
    "bag,hello,without,world\n",
    "\n",
    "Hints:\n",
    "In case of input data being supplied to the question, it should be assumed to be a console input."
   ]
  },
  {
   "cell_type": "code",
   "execution_count": 63,
   "id": "8a97c778-e500-4979-84d9-92c9f4d67d30",
   "metadata": {},
   "outputs": [
    {
     "name": "stdin",
     "output_type": "stream",
     "text": [
      "Enter your words without,hello,bag,world\n"
     ]
    },
    {
     "data": {
      "text/plain": [
       "['bag', 'hello', 'without', 'world']"
      ]
     },
     "execution_count": 63,
     "metadata": {},
     "output_type": "execute_result"
    }
   ],
   "source": [
    "my_list8 = (input(\"Enter your words\")).split(\",\")\n",
    "new_list8 = sorted(my_list8)\n",
    "new_list8"
   ]
  },
  {
   "cell_type": "markdown",
   "id": "cb6cc84a-6fd0-4fae-8d19-97d19cbc4a5e",
   "metadata": {},
   "source": [
    "### Question 9\n",
    "Level 2\n",
    "\n",
    "Question£º\n",
    "Write a program that accepts sequence of lines as input and prints the lines after making all characters in the sentence capitalized.\n",
    "Suppose the following input is supplied to the program:\n",
    "Hello world\n",
    "Practice makes perfect\n",
    "Then, the output should be:\n",
    "HELLO WORLD\n",
    "PRACTICE MAKES PERFECT\n",
    "\n",
    "Hints:\n",
    "In case of input data being supplied to the question, it should be assumed to be a console input."
   ]
  },
  {
   "cell_type": "code",
   "execution_count": 77,
   "id": "1cddc1e2-d1a0-4437-b356-18c7d841ab2c",
   "metadata": {},
   "outputs": [
    {
     "name": "stdin",
     "output_type": "stream",
     "text": [
      "Enter your sentence Hello world Practice makes perfect\n"
     ]
    },
    {
     "name": "stdout",
     "output_type": "stream",
     "text": [
      "HELLO WORLD PRACTICE MAKES PERFECT "
     ]
    }
   ],
   "source": [
    "my_sentence9 = (input(\"Enter your sentence\"))\n",
    "print(my_sentence9.upper(), end=\" \")"
   ]
  },
  {
   "cell_type": "markdown",
   "id": "5401c9b6-dc95-44d2-ae15-1721b420c542",
   "metadata": {},
   "source": [
    "### Question 10\n",
    "Level 2\n",
    "\n",
    "Question:\n",
    "Write a program that accepts a sequence of whitespace separated words as input and prints the words after removing all duplicate words and sorting them alphanumerically.\n",
    "Suppose the following input is supplied to the program:\n",
    "hello world and practice makes perfect and hello world again\n",
    "Then, the output should be:\n",
    "again and hello makes perfect practice world\n",
    "\n",
    "Hints:\n",
    "In case of input data being supplied to the question, it should be assumed to be a console input.\n",
    "We use set container to remove duplicated data automatically and then use sorted() to sort the data."
   ]
  },
  {
   "cell_type": "code",
   "execution_count": 28,
   "id": "fc9cf15b-57a3-4000-aa8b-56fab8a6f25d",
   "metadata": {},
   "outputs": [
    {
     "name": "stdin",
     "output_type": "stream",
     "text": [
      "Enter your words hello world and practice makes perfect and hello world again\n"
     ]
    },
    {
     "name": "stdout",
     "output_type": "stream",
     "text": [
      "again and hello makes perfect practice world\n"
     ]
    }
   ],
   "source": [
    "list_10 = list((input(\"Enter your words\")).split(\" \"))\n",
    "list_no_dups = []\n",
    "for i in list_10:\n",
    "    if i not in list_no_dups:\n",
    "        list_no_dups.append(i)\n",
    "list_no_dups=sorted(list_no_dups)       \n",
    "print(\" \".join(list_no_dups))"
   ]
  },
  {
   "cell_type": "markdown",
   "id": "7f3c72da-f952-4a94-8a2b-01280a142ca0",
   "metadata": {},
   "source": [
    "### Question 71\n",
    "Please write a program which accepts basic mathematic expression from console and print the evaluation result.\n",
    "\n",
    "Example:\n",
    "If the following string is given as input to the program:\n",
    "\n",
    "35+3\n",
    "\n",
    "Then, the output of the program should be:\n",
    "\n",
    "38\n",
    "\n",
    "Hints:\n",
    "Use eval() to evaluate an expression."
   ]
  },
  {
   "cell_type": "code",
   "execution_count": 32,
   "id": "c458b578-a873-4c1c-aed8-5286a047f5c3",
   "metadata": {},
   "outputs": [
    {
     "name": "stdin",
     "output_type": "stream",
     "text": [
      "Enter your mathematical expression 35+3\n"
     ]
    },
    {
     "data": {
      "text/plain": [
       "38"
      ]
     },
     "execution_count": 32,
     "metadata": {},
     "output_type": "execute_result"
    }
   ],
   "source": [
    "expr_71=input(\"Enter your mathematical expression\")\n",
    "eval(expr_71)"
   ]
  },
  {
   "cell_type": "markdown",
   "id": "c7a1750b-9fdb-4fdc-97dc-4ccc524b4ed1",
   "metadata": {},
   "source": [
    "### Question 72\n",
    "Please write a binary search function which searches an item in a sorted list. The function should return the index of element to be searched in the list.\n",
    "\n",
    "Hints:\n",
    "Use if/elif to deal with conditions."
   ]
  },
  {
   "cell_type": "code",
   "execution_count": 38,
   "id": "f7e068cf-945e-45eb-b621-d778a9c16561",
   "metadata": {},
   "outputs": [
    {
     "data": {
      "text/plain": [
       "2"
      ]
     },
     "execution_count": 38,
     "metadata": {},
     "output_type": "execute_result"
    }
   ],
   "source": [
    "def binary_search(list_72, item_72):\n",
    "    sorted_list = sorted(list_72)\n",
    "    for i in sorted_list:\n",
    "        if i==item_72:\n",
    "            return sorted_list.index(i)\n",
    "binary_search(['yellow', 'blue','violet','green'], 'violet')\n",
    "        "
   ]
  },
  {
   "cell_type": "markdown",
   "id": "c24041e0-d9bb-40b2-b0b8-cafc1305f17c",
   "metadata": {},
   "source": [
    "### Question 73\n",
    "Please write a binary search function which searches an item in a sorted list. The function should return the index of element to be searched in the list.\n",
    "\n",
    "Hints:\n",
    "Use if/elif to deal with conditions."
   ]
  },
  {
   "cell_type": "code",
   "execution_count": 39,
   "id": "ad3446ee-8cd1-4c43-a247-a21dbae39995",
   "metadata": {},
   "outputs": [
    {
     "data": {
      "text/plain": [
       "2"
      ]
     },
     "execution_count": 39,
     "metadata": {},
     "output_type": "execute_result"
    }
   ],
   "source": [
    "def binary_search(list_72, item_72):\n",
    "    sorted_list = sorted(list_72)\n",
    "    for i in sorted_list:\n",
    "        if i==item_72:\n",
    "            return sorted_list.index(i)\n",
    "binary_search(['yellow', 'blue','violet','green'], 'violet')"
   ]
  },
  {
   "cell_type": "markdown",
   "id": "f9996469-c9f2-4209-8c08-1925b3ab49a4",
   "metadata": {},
   "source": [
    "### Question 74\n",
    "Please generate a random float where the value is between 10 and 100 using Python math module.\n",
    "\n",
    "Hints:\n",
    "Use random.random() to generate a random float in [0,1]."
   ]
  },
  {
   "cell_type": "code",
   "execution_count": 16,
   "id": "37d11362-26e7-4f3f-af97-8a0ff5ad61d9",
   "metadata": {},
   "outputs": [
    {
     "name": "stdout",
     "output_type": "stream",
     "text": [
      "96.47143320477646\n"
     ]
    }
   ],
   "source": [
    "import random\n",
    "print(random.uniform(10,100))"
   ]
  },
  {
   "cell_type": "markdown",
   "id": "08be1ed1-208d-419c-9f21-d9cd7622c701",
   "metadata": {},
   "source": [
    "### Question 75\n",
    "Please generate a random float where the value is between 5 and 95 using Python math module.\n",
    "\n",
    "Hints:\n",
    "Use random.random() to generate a random float in [0,1]."
   ]
  },
  {
   "cell_type": "code",
   "execution_count": 17,
   "id": "da5229c1-258c-4982-aa2e-ed815a554e15",
   "metadata": {},
   "outputs": [
    {
     "name": "stdout",
     "output_type": "stream",
     "text": [
      "83.52027908377124\n"
     ]
    }
   ],
   "source": [
    "import random\n",
    "print(random.uniform(5,95))"
   ]
  },
  {
   "cell_type": "markdown",
   "id": "a6669f11-9cfd-48bd-8e52-8e485aeeefc2",
   "metadata": {},
   "source": [
    "### Question 76\n",
    "Please write a program to output a random even number between 0 and 10 inclusive using random module and list comprehension.\n",
    "\n",
    "Hints:\n",
    "Use random.choice() to a random element from a list."
   ]
  },
  {
   "cell_type": "code",
   "execution_count": 29,
   "id": "8631da3c-1078-4e59-89d7-55b55086d9ff",
   "metadata": {},
   "outputs": [
    {
     "data": {
      "text/plain": [
       "4"
      ]
     },
     "execution_count": 29,
     "metadata": {},
     "output_type": "execute_result"
    }
   ],
   "source": [
    "import random\n",
    "random.choice([i for i in range(0,11) if i%2==0])"
   ]
  },
  {
   "cell_type": "markdown",
   "id": "1827d8dc-33fd-4c91-9f2c-130c8cedbc55",
   "metadata": {},
   "source": [
    "### Question 77\n",
    "Please write a program to output a random number, which is divisible by 5 and 7, between 0 and 10 inclusive using random module and list comprehension.\n",
    "\n",
    "Hints:\n",
    "Use random.choice() to a random element from a list."
   ]
  },
  {
   "cell_type": "code",
   "execution_count": 31,
   "id": "be459e1a-95db-4705-ad54-f1bab886f8ea",
   "metadata": {},
   "outputs": [
    {
     "data": {
      "text/plain": [
       "0"
      ]
     },
     "execution_count": 31,
     "metadata": {},
     "output_type": "execute_result"
    }
   ],
   "source": [
    "import random\n",
    "random.choice([i for i in range(0,11) if i%5==0 and i%7==0])"
   ]
  },
  {
   "cell_type": "markdown",
   "id": "56301d85-8c89-4b85-b9c8-08d022d5abcb",
   "metadata": {},
   "source": [
    "### Question 78\n",
    "Please write a program to generate a list with 5 random numbers between 100 and 200 inclusive.\n",
    "\n",
    "Hints:\n",
    "Use random.sample() to generate a list of random values."
   ]
  },
  {
   "cell_type": "code",
   "execution_count": 34,
   "id": "329c6680-60eb-4b20-9ffa-1d94decdc046",
   "metadata": {},
   "outputs": [
    {
     "name": "stdout",
     "output_type": "stream",
     "text": [
      "[158, 109, 147, 114, 176]\n"
     ]
    }
   ],
   "source": [
    "import random\n",
    "print(random.sample(range(100,201),5))"
   ]
  },
  {
   "cell_type": "markdown",
   "id": "e5c278da-5c14-4a50-a95e-b27bdfd0d736",
   "metadata": {},
   "source": [
    "### Question 79\n",
    "Please write a program to randomly generate a list with 5 even numbers between 100 and 200 inclusive.\n",
    "\n",
    "Hints:\n",
    "Use random.sample() to generate a list of random values."
   ]
  },
  {
   "cell_type": "code",
   "execution_count": 38,
   "id": "efbd7aa9-8cdc-473d-b20c-6cedc589a687",
   "metadata": {},
   "outputs": [
    {
     "name": "stdout",
     "output_type": "stream",
     "text": [
      "[100, 162, 154, 160, 186]\n"
     ]
    }
   ],
   "source": [
    "import random\n",
    "print(random.sample([i for i in range(100,201) if i%2==0],5))"
   ]
  },
  {
   "cell_type": "markdown",
   "id": "2a718973-674a-4f2a-a254-8657880af32a",
   "metadata": {},
   "source": [
    "### Question 80\n",
    "Please write a program to randomly generate a list with 5 numbers, which are divisible by 5 and 7 , between 1 and 1000 inclusive.\n",
    "\n",
    "Hints:\n",
    "Use random.sample() to generate a list of random values."
   ]
  },
  {
   "cell_type": "code",
   "execution_count": 39,
   "id": "991c6fc2-5e72-4512-a26f-f7ade965d709",
   "metadata": {},
   "outputs": [
    {
     "name": "stdout",
     "output_type": "stream",
     "text": [
      "[945, 630, 420, 315, 280]\n"
     ]
    }
   ],
   "source": [
    "import random\n",
    "print(random.sample([i for i in range(1,1001) if i%5==0 and i%7==0],5))"
   ]
  },
  {
   "cell_type": "markdown",
   "id": "7db03940-639e-4165-8102-bfd20c4381cf",
   "metadata": {},
   "source": [
    "### Question 81\n",
    "Please write a program to randomly print a integer number between 7 and 15 inclusive.\n",
    "\n",
    "Hints:\n",
    "Use random.randrange() to a random integer in a given range."
   ]
  },
  {
   "cell_type": "code",
   "execution_count": 41,
   "id": "55e0a8f8-63c9-4d82-a638-e299c494fae3",
   "metadata": {},
   "outputs": [
    {
     "name": "stdout",
     "output_type": "stream",
     "text": [
      "14\n"
     ]
    }
   ],
   "source": [
    "import random\n",
    "print(random.randrange(7,16))"
   ]
  },
  {
   "cell_type": "markdown",
   "id": "1490d7b8-79b0-4e61-91e8-3d2717265aa2",
   "metadata": {},
   "source": [
    "### Question 82\n",
    "Please write a program to compress and decompress the string \"hello world!hello world!hello world!hello world!\".\n",
    "\n",
    "Hints:\n",
    "Use zlib.compress() and zlib.decompress() to compress and decompress a string.\n"
   ]
  },
  {
   "cell_type": "code",
   "execution_count": 52,
   "id": "788820a3-cc5d-46fb-9a75-d290cfa65a85",
   "metadata": {},
   "outputs": [
    {
     "name": "stdout",
     "output_type": "stream",
     "text": [
      "b'x\\x9c\\xcbH\\xcd\\xc9\\xc9W(\\xcf/\\xcaIQ\\xcc \\x82\\r\\x00\\xbd[\\x11\\xf5'\n",
      "b'hello world!hello world!hello world!hello world!'\n"
     ]
    }
   ],
   "source": [
    "import zlib\n",
    "string_82 = \"hello world!hello world!hello world!hello world!\"\n",
    "compressed_82 = zlib.compress(bytes(string_82, 'utf-8'))\n",
    "print(compressed_82)\n",
    "print(zlib.decompress(compressed_82))"
   ]
  },
  {
   "cell_type": "markdown",
   "id": "a30046df-ce4b-427a-85d1-aa4a7b4d56a7",
   "metadata": {},
   "source": [
    "### Question 83\n",
    "Please write a program to print the running time of execution of \"1+1\" for 100 times.\n",
    "\n",
    "Hints:\n",
    "Use timeit() function to measure the running time."
   ]
  },
  {
   "cell_type": "code",
   "execution_count": 48,
   "id": "ec3df41f-2f07-46a0-8cc8-dde18ca0bd10",
   "metadata": {},
   "outputs": [
    {
     "name": "stdout",
     "output_type": "stream",
     "text": [
      "1.12168311199639\n"
     ]
    }
   ],
   "source": [
    "from timeit import Timer\n",
    "\n",
    "time_83 = Timer(\"for i in range(0,100):1+1\")\n",
    "print(time_83.timeit())"
   ]
  },
  {
   "cell_type": "markdown",
   "id": "7038b282-f2b2-4a38-9d51-85fbfd141639",
   "metadata": {},
   "source": [
    "### Question 84\n",
    "Please write a program to shuffle and print the list [3,6,7,8].\n",
    "\n",
    "Hints:\n",
    "Use shuffle() function to shuffle a list.\n"
   ]
  },
  {
   "cell_type": "code",
   "execution_count": 49,
   "id": "25d7f6b1-981c-43b4-a799-2f8ddaaff21b",
   "metadata": {},
   "outputs": [
    {
     "name": "stdout",
     "output_type": "stream",
     "text": [
      "[3, 7, 8, 6]\n"
     ]
    }
   ],
   "source": [
    "import random\n",
    "list_85=[3,6,7,8]\n",
    "random.shuffle(list_85)\n",
    "print(list_85)"
   ]
  },
  {
   "cell_type": "markdown",
   "id": "57198875-c2c3-4e97-b7e1-88bb10ca8245",
   "metadata": {},
   "source": [
    "### Question 85\n",
    "Please write a program to shuffle and print the list [3,6,7,8].\n",
    "\n",
    "Hints:\n",
    "Use shuffle() function to shuffle a list."
   ]
  },
  {
   "cell_type": "code",
   "execution_count": 74,
   "id": "08d5bb20-2b93-4322-a401-4d786b446d01",
   "metadata": {},
   "outputs": [
    {
     "name": "stdout",
     "output_type": "stream",
     "text": [
      "[7, 3, 6, 8]\n"
     ]
    }
   ],
   "source": [
    "import random\n",
    "list_85=[3,6,7,8]\n",
    "random.shuffle(list_85)\n",
    "print(list_85)"
   ]
  },
  {
   "cell_type": "code",
   "execution_count": null,
   "id": "50723c19-8ac8-41c5-80ff-25725375bb87",
   "metadata": {},
   "outputs": [],
   "source": []
  }
 ],
 "metadata": {
  "kernelspec": {
   "display_name": "Python 3 (ipykernel)",
   "language": "python",
   "name": "python3"
  },
  "language_info": {
   "codemirror_mode": {
    "name": "ipython",
    "version": 3
   },
   "file_extension": ".py",
   "mimetype": "text/x-python",
   "name": "python",
   "nbconvert_exporter": "python",
   "pygments_lexer": "ipython3",
   "version": "3.9.7"
  }
 },
 "nbformat": 4,
 "nbformat_minor": 5
}
