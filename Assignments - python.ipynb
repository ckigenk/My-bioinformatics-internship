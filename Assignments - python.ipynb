{
 "cells": [
  {
   "cell_type": "markdown",
   "id": "d05bd1ac-ca44-459b-b3d3-d9c06de7b228",
   "metadata": {},
   "source": [
    "### Exercise\n",
    "\n",
    "Calculate the % GC and % AT content in the trna sequence"
   ]
  },
  {
   "cell_type": "code",
   "execution_count": 14,
   "id": "6a41e650-2ebb-4d29-935f-edbb76e79d68",
   "metadata": {},
   "outputs": [
    {
     "name": "stdout",
     "output_type": "stream",
     "text": [
      "The length of the sequence is 69 nucleotides\n",
      "There are 21 'G's but only 9 C's in the sequence\n",
      "The \"ATTAA\" motif is at index 14\n"
     ]
    }
   ],
   "source": [
    "trna='AAGGGCTTAGCTTAATTAAAGTGGCTGATTTGCGTTCAGTTGATGCAGAGTGGGGTTTTGCAGTCCTTA'\n",
    "\n",
    "print(\"The length of the sequence is %i\" % len(trna),\"nucleotides\") # len() gives length\n",
    "\n",
    "#count strings\n",
    "print(\"There are %d 'G's but only %d C's in the sequence\" % (trna.count('G'),trna.count('C')))\n",
    "print('The \"ATTAA\" motif is at index',trna.find('ATTAA')) #index from 0 or -1"
   ]
  },
  {
   "cell_type": "code",
   "execution_count": 27,
   "id": "c6aae1d5-5c3e-47e6-8ea0-4a5dff8dc7bd",
   "metadata": {},
   "outputs": [
    {
     "name": "stdout",
     "output_type": "stream",
     "text": [
      "%GC: 43.47826086956522\n",
      "%AT: 56.52173913043478\n"
     ]
    }
   ],
   "source": [
    "A_count=trna.count('A')\n",
    "C_count=trna.count('C')\n",
    "G_count=trna.count('G')\n",
    "T_count=trna.count('T')\n",
    "print(\"%GC:\", (G_count+C_count)/len(trna)*100)\n",
    "print(\"%AT:\", (A_count+T_count)/len(trna)*100)"
   ]
  },
  {
   "cell_type": "markdown",
   "id": "5a59bab7-4072-4c9f-b84c-9459c41be7b4",
   "metadata": {},
   "source": [
    "### Exercise:\n",
    "\n",
    "1. Given the following amino acid sequence (MNKMDLVADVAEKTDLSKAKATEVIDAVFA), find the first, last and the 5th amino acids in the sequence. \n",
    "2. The above amino acid is a bacterial restriction enzyme that recognizes \"TCCGGA\". Find the first restriction site in the following sequence: AAAAATCCCGAGGCGGCTATATAGGGCTCCGGAGGCGTAATATAAAA"
   ]
  },
  {
   "cell_type": "code",
   "execution_count": 2,
   "id": "3e46f12d-196f-4788-891a-b50f09151a6f",
   "metadata": {},
   "outputs": [],
   "source": [
    "AA_seq = 'MNKMDLVADVAEKTDLSKAKATEVIDAVFA'"
   ]
  },
  {
   "cell_type": "code",
   "execution_count": 3,
   "id": "465fa05f-0f1a-4e91-8d33-a7bb061b7354",
   "metadata": {},
   "outputs": [],
   "source": [
    "first = AA_seq[0]\n",
    "last = AA_seq[-1]\n",
    "fifth = AA_seq[4]"
   ]
  },
  {
   "cell_type": "code",
   "execution_count": 5,
   "id": "1a620cbd-b493-4fc8-9271-48b163de7a35",
   "metadata": {},
   "outputs": [
    {
     "data": {
      "text/plain": [
       "'M'"
      ]
     },
     "execution_count": 5,
     "metadata": {},
     "output_type": "execute_result"
    }
   ],
   "source": [
    "first"
   ]
  },
  {
   "cell_type": "code",
   "execution_count": 6,
   "id": "787ec620-c967-4738-a99a-5cf13b3c057b",
   "metadata": {},
   "outputs": [
    {
     "data": {
      "text/plain": [
       "'A'"
      ]
     },
     "execution_count": 6,
     "metadata": {},
     "output_type": "execute_result"
    }
   ],
   "source": [
    "last"
   ]
  },
  {
   "cell_type": "code",
   "execution_count": 7,
   "id": "53c3a195-9360-41aa-a5b8-a8538bea8e27",
   "metadata": {},
   "outputs": [
    {
     "data": {
      "text/plain": [
       "'D'"
      ]
     },
     "execution_count": 7,
     "metadata": {},
     "output_type": "execute_result"
    }
   ],
   "source": [
    "fifth"
   ]
  },
  {
   "cell_type": "code",
   "execution_count": 8,
   "id": "fb758ce6-fdaf-4bc3-aeeb-3395b9661bce",
   "metadata": {},
   "outputs": [],
   "source": [
    "DNA = 'AAAAATCCCGAGGCGGCTATATAGGGCTCCGGAGGCGTAATATAAAA'"
   ]
  },
  {
   "cell_type": "code",
   "execution_count": 9,
   "id": "ce110f7c-5c00-4a22-9371-52d156a52275",
   "metadata": {},
   "outputs": [
    {
     "data": {
      "text/plain": [
       "True"
      ]
     },
     "execution_count": 9,
     "metadata": {},
     "output_type": "execute_result"
    }
   ],
   "source": [
    "'TCCGGA' in DNA"
   ]
  },
  {
   "cell_type": "code",
   "execution_count": 10,
   "id": "e8836017-2344-46a0-961e-8458824f4eb3",
   "metadata": {},
   "outputs": [
    {
     "data": {
      "text/plain": [
       "27"
      ]
     },
     "execution_count": 10,
     "metadata": {},
     "output_type": "execute_result"
    }
   ],
   "source": [
    "DNA.find('TCCGGA')"
   ]
  },
  {
   "cell_type": "markdown",
   "id": "5e1fd692-a366-4b50-ad6c-5b979760c1c8",
   "metadata": {},
   "source": [
    "## Exercise\n",
    "\n",
    "- Using strings, lists, tuples and dictionaries concepts, find the reverse complement of AAAAATCCCGAGGCGGCTATATAGGGCTCCGGAGGCGTAATATAAAA"
   ]
  },
  {
   "cell_type": "code",
   "execution_count": 10,
   "id": "c6c7ce6e-ca5c-4c7b-b233-0a8828761ad8",
   "metadata": {},
   "outputs": [
    {
     "data": {
      "text/plain": [
       "'TTTTTAGGGCTCCGCCGATATATCCCGAGGCCTCCGCATTATATTTT'"
      ]
     },
     "execution_count": 10,
     "metadata": {},
     "output_type": "execute_result"
    }
   ],
   "source": [
    "DNA_seq = 'AAAAATCCCGAGGCGGCTATATAGGGCTCCGGAGGCGTAATATAAAA'\n",
    "rev_compl=[]\n",
    "for i in DNA_seq:\n",
    "    if i=='A':\n",
    "        rev_compl.append('t')\n",
    "    elif i=='T':\n",
    "        rev_compl.append('a')\n",
    "    elif i=='C':\n",
    "        rev_compl.append('g')\n",
    "    elif i=='G':\n",
    "        rev_compl.append('c')\n",
    "    else:\n",
    "        rev_compl.append('-')\n",
    "rev_compl=''.join(rev_compl)\n",
    "rev_compl.upper()\n"
   ]
  },
  {
   "cell_type": "markdown",
   "id": "9c4db4ac-8e79-4e0b-834d-36593cee293c",
   "metadata": {},
   "source": [
    "### Exercise\n",
    "Let's return to our earlier exercise: calculating %GC content. In this exercise:\n",
    "- Write a function `percentageGC` that calculates the GC content of a DNA sequence\n",
    "- The function should return the %GC content\n",
    "- The Function should return a message if the provided sequence is not DNA (This should be checked by a different function, called by your function)\n"
   ]
  },
  {
   "cell_type": "code",
   "execution_count": 28,
   "id": "e231c02b-92f9-4fbe-abbc-292eeb7aa253",
   "metadata": {},
   "outputs": [],
   "source": [
    "def dnacheck(dnaseq):\n",
    "    testdna =[]\n",
    "    dna = dnaseq.upper()\n",
    "    for i in dna:\n",
    "        result = str(i) in ['T', 'A', 'G', 'C']\n",
    "        testdna.append(result)\n",
    "    if testdna.count(False) > 0:\n",
    "        return False\n",
    "    else:\n",
    "        return True\n",
    "def percentGC(dna):\n",
    "    '''calculates the percentage GC content, given a DNA sequence'''\n",
    "    if dnacheck(dna):\n",
    "        dna_len= len(dna)\n",
    "        gs = dna.count('G')\n",
    "        cs = dna.count('C')\n",
    "        \n",
    "        return (gs+cs)/dna_len*100\n",
    "        \n",
    "        #print(\"The sequence input is not a valid DNA\")"
   ]
  },
  {
   "cell_type": "code",
   "execution_count": 29,
   "id": "4b1c9e87-0336-49eb-a403-e7d8b375f69a",
   "metadata": {},
   "outputs": [],
   "source": [
    "mydna = \"CAGTGATGATGACGAT\"\n",
    "yourdna = \"ACGATCGAGACGTAGTA\"\n",
    "testdna = \"ATFRACGATTGHAHYAK\"\n",
    "percentGC(testdna)"
   ]
  },
  {
   "cell_type": "markdown",
   "id": "3ea124ce-a934-467f-bf18-68defc5a0987",
   "metadata": {},
   "source": [
    "### Exercise 1\n",
    "\n",
    "Write a function the reads the file (humchr.txt) and writes to another file (gene_names.txt) a clean list of gene names."
   ]
  },
  {
   "cell_type": "code",
   "execution_count": 32,
   "id": "8a6850a6-db34-4071-97f0-2257f045ee0d",
   "metadata": {},
   "outputs": [],
   "source": [
    "def get_genes(infile,outfile):\n",
    "    \"\"\"\n",
    "    Function to extract a list of genes and write to file\n",
    "    \"\"\"\n",
    "    gene_list = []\n",
    "    with open(infile) as  gene:\n",
    "        tag = False\n",
    "        for line in gene:\n",
    "            if line.startswith('name'):\n",
    "                tag = True\n",
    "                pass\n",
    "            if tag:\n",
    "                items = line.split()\n",
    "                if len(items) > 0:\n",
    "                    gene_list.append(items[0])\n",
    "    gene_list = gene_list[1:-7]\n",
    "    with open(outfile, 'w') as outfile:\n",
    "        for i in gene_list:\n",
    "            outfile.write(i+'\\n')"
   ]
  },
  {
   "cell_type": "code",
   "execution_count": 31,
   "id": "a74ca0ad-bc54-402f-a206-1457bba2cadd",
   "metadata": {},
   "outputs": [
    {
     "ename": "ModuleNotFoundError",
     "evalue": "No module named 'genelist'",
     "output_type": "error",
     "traceback": [
      "\u001b[1;31m---------------------------------------------------------------------------\u001b[0m",
      "\u001b[1;31mModuleNotFoundError\u001b[0m                       Traceback (most recent call last)",
      "\u001b[1;32m~\\AppData\\Local\\Temp/ipykernel_6676/42759674.py\u001b[0m in \u001b[0;36m<module>\u001b[1;34m\u001b[0m\n\u001b[1;32m----> 1\u001b[1;33m \u001b[1;32mimport\u001b[0m \u001b[0mgenelist\u001b[0m\u001b[1;33m\u001b[0m\u001b[1;33m\u001b[0m\u001b[0m\n\u001b[0m",
      "\u001b[1;31mModuleNotFoundError\u001b[0m: No module named 'genelist'"
     ]
    }
   ],
   "source": [
    "import genelist"
   ]
  },
  {
   "cell_type": "code",
   "execution_count": null,
   "id": "59369c29-537d-4ed6-8316-68906e4336a9",
   "metadata": {},
   "outputs": [],
   "source": []
  },
  {
   "cell_type": "markdown",
   "id": "7af0a1b8-e938-44c4-b932-54b80f9f41cb",
   "metadata": {},
   "source": [
    "### Exercise 3\n",
    "\n",
    "- Using the same concept, convert your script in your previous exercise to take command line arguments (input and output files)"
   ]
  }
 ],
 "metadata": {
  "kernelspec": {
   "display_name": "Python 3 (ipykernel)",
   "language": "python",
   "name": "python3"
  },
  "language_info": {
   "codemirror_mode": {
    "name": "ipython",
    "version": 3
   },
   "file_extension": ".py",
   "mimetype": "text/x-python",
   "name": "python",
   "nbconvert_exporter": "python",
   "pygments_lexer": "ipython3",
   "version": "3.9.7"
  }
 },
 "nbformat": 4,
 "nbformat_minor": 5
}
