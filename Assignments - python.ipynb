{
 "cells": [
  {
   "cell_type": "markdown",
   "id": "4c9e3195-9ce8-4a9e-9f26-2cbf0bd96d3a",
   "metadata": {},
   "source": [
    "### Exercise:\n",
    "\n",
    "1. Given the following amino acid sequence (MNKMDLVADVAEKTDLSKAKATEVIDAVFA), find the first, last and the 5th amino acids in the sequence. \n",
    "2. The above amino acid is a bacterial restriction enzyme that recognizes \"TCCGGA\". Find the first restriction site in the following sequence: AAAAATCCCGAGGCGGCTATATAGGGCTCCGGAGGCGTAATATAAAA"
   ]
  },
  {
   "cell_type": "code",
   "execution_count": 2,
   "id": "3e46f12d-196f-4788-891a-b50f09151a6f",
   "metadata": {},
   "outputs": [],
   "source": [
    "AA_seq = 'MNKMDLVADVAEKTDLSKAKATEVIDAVFA'"
   ]
  },
  {
   "cell_type": "code",
   "execution_count": 3,
   "id": "465fa05f-0f1a-4e91-8d33-a7bb061b7354",
   "metadata": {},
   "outputs": [],
   "source": [
    "first = AA_seq[0]\n",
    "last = AA_seq[-1]\n",
    "fifth = AA_seq[4]"
   ]
  },
  {
   "cell_type": "code",
   "execution_count": 5,
   "id": "1a620cbd-b493-4fc8-9271-48b163de7a35",
   "metadata": {},
   "outputs": [
    {
     "data": {
      "text/plain": [
       "'M'"
      ]
     },
     "execution_count": 5,
     "metadata": {},
     "output_type": "execute_result"
    }
   ],
   "source": [
    "first"
   ]
  },
  {
   "cell_type": "code",
   "execution_count": 6,
   "id": "787ec620-c967-4738-a99a-5cf13b3c057b",
   "metadata": {},
   "outputs": [
    {
     "data": {
      "text/plain": [
       "'A'"
      ]
     },
     "execution_count": 6,
     "metadata": {},
     "output_type": "execute_result"
    }
   ],
   "source": [
    "last"
   ]
  },
  {
   "cell_type": "code",
   "execution_count": 7,
   "id": "53c3a195-9360-41aa-a5b8-a8538bea8e27",
   "metadata": {},
   "outputs": [
    {
     "data": {
      "text/plain": [
       "'D'"
      ]
     },
     "execution_count": 7,
     "metadata": {},
     "output_type": "execute_result"
    }
   ],
   "source": [
    "fifth"
   ]
  },
  {
   "cell_type": "code",
   "execution_count": 8,
   "id": "fb758ce6-fdaf-4bc3-aeeb-3395b9661bce",
   "metadata": {},
   "outputs": [],
   "source": [
    "DNA = 'AAAAATCCCGAGGCGGCTATATAGGGCTCCGGAGGCGTAATATAAAA'"
   ]
  },
  {
   "cell_type": "code",
   "execution_count": 9,
   "id": "ce110f7c-5c00-4a22-9371-52d156a52275",
   "metadata": {},
   "outputs": [
    {
     "data": {
      "text/plain": [
       "True"
      ]
     },
     "execution_count": 9,
     "metadata": {},
     "output_type": "execute_result"
    }
   ],
   "source": [
    "'TCCGGA' in DNA"
   ]
  },
  {
   "cell_type": "code",
   "execution_count": 10,
   "id": "e8836017-2344-46a0-961e-8458824f4eb3",
   "metadata": {},
   "outputs": [
    {
     "data": {
      "text/plain": [
       "27"
      ]
     },
     "execution_count": 10,
     "metadata": {},
     "output_type": "execute_result"
    }
   ],
   "source": [
    "DNA.find('TCCGGA')"
   ]
  },
  {
   "cell_type": "markdown",
   "id": "5e1fd692-a366-4b50-ad6c-5b979760c1c8",
   "metadata": {},
   "source": [
    "## Exercise\n",
    "\n",
    "- Using strings, lists, tuples and dictionaries concepts, find the reverse complement of AAAAATCCCGAGGCGGCTATATAGGGCTCCGGAGGCGTAATATAAAA"
   ]
  },
  {
   "cell_type": "code",
   "execution_count": null,
   "id": "c6c7ce6e-ca5c-4c7b-b233-0a8828761ad8",
   "metadata": {},
   "outputs": [],
   "source": [
    "DNA_seq = 'AAAAATCCCGAGGCGGCTATATAGGGCTCCGGAGGCGTAATATAAAA'\n"
   ]
  },
  {
   "cell_type": "markdown",
   "id": "ee19029f-6aa4-47f1-b3b7-3dfeaf3402de",
   "metadata": {},
   "source": [
    "## Exercise\n",
    "\n",
    "- Using strings, lists, tuples and dictionaries concepts, find the reverse complement of AAAAATCCCGAGGCGGCTATATAGGGCTCCGGAGGCGTAATATAAAA"
   ]
  },
  {
   "cell_type": "markdown",
   "id": "f700de1c-a36e-4cb5-a81f-aed7760245fe",
   "metadata": {},
   "source": [
    "### Exercise 3\n",
    "\n",
    "- Using the same concept, convert your script in your previous exercise to take command line arguments (input and output files)"
   ]
  }
 ],
 "metadata": {
  "kernelspec": {
   "display_name": "Python 3 (ipykernel)",
   "language": "python",
   "name": "python3"
  },
  "language_info": {
   "codemirror_mode": {
    "name": "ipython",
    "version": 3
   },
   "file_extension": ".py",
   "mimetype": "text/x-python",
   "name": "python",
   "nbconvert_exporter": "python",
   "pygments_lexer": "ipython3",
   "version": "3.9.7"
  }
 },
 "nbformat": 4,
 "nbformat_minor": 5
}
